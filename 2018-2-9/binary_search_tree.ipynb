{
 "cells": [
  {
   "cell_type": "markdown",
   "metadata": {},
   "source": [
    "# Binary Search Tree\n",
    "## Implementation\n",
    "### Node"
   ]
  },
  {
   "cell_type": "code",
   "execution_count": 2,
   "metadata": {},
   "outputs": [],
   "source": [
    "class Node:\n",
    "    \"\"\"\n",
    "    Implements a node class for a binary search tree.\n",
    "    \"\"\"\n",
    "    def __init__(self, val):\n",
    "        \"\"\"\n",
    "        Initializes a BST node with the specified val.\n",
    "        \"\"\"\n",
    "        self.val = val\n",
    "        self.left = None\n",
    "        self.right = None"
   ]
  },
  {
   "cell_type": "markdown",
   "metadata": {},
   "source": [
    "### Tree"
   ]
  },
  {
   "cell_type": "code",
   "execution_count": 14,
   "metadata": {},
   "outputs": [],
   "source": [
    "class BinarySearchTree:\n",
    "    \"\"\"\n",
    "    Node-based implementation of a binary search tree. If val is specified,\n",
    "    the root of the tree will have root.val = val.\n",
    "    \"\"\"\n",
    "    def __init__(self, val):\n",
    "        \"\"\"\n",
    "        Initializes a BST. If val is specified, the root of the tree will have root.val = val.\n",
    "        \"\"\"\n",
    "        self.root = None\n",
    "        if val != None:\n",
    "            self.root = Node(val)\n",
    "    \n",
    "    def add(self, val):\n",
    "        \"\"\"\n",
    "        Adds a node with the specified val to the binary search tree IF an element with the same\n",
    "        val does not already exist. If a root does not exist, a root is initialized with val.\n",
    "        \"\"\"\n",
    "        if self.root:\n",
    "            # Move downward until valid place is found\n",
    "            prev_node = None\n",
    "            curr_node = self.root\n",
    "            while curr_node:\n",
    "                prev_node = curr_node\n",
    "                if curr_node.val == val:\n",
    "                    return\n",
    "                elif val < curr_node.val:\n",
    "                    curr_node = curr_node.left\n",
    "                else:\n",
    "                    curr_node = curr_node.right\n",
    "                    \n",
    "            #Function didn't exit, so curr_node is a valid leaf node location\n",
    "            if val < prev_node.val:\n",
    "                prev_node.left = Node(val)\n",
    "            else:\n",
    "                prev_node.right = Node(val)\n",
    "        else:\n",
    "            self.root = Node(val)\n",
    "            \n",
    "    def contains(self, val):\n",
    "        \"\"\"\n",
    "        Searches the binary search tree for a node with the val. Returns True if such a node\n",
    "        is found, and False otherwise.\n",
    "        \"\"\"\n",
    "        curr_node = self.root\n",
    "        while curr_node:\n",
    "            if curr_node.val == val:\n",
    "                return True\n",
    "            elif val < curr_node.val:\n",
    "                curr_node = curr_node.left\n",
    "            elif curr_node.val < val:\n",
    "                curr_node = curr_node.right\n",
    "        return False"
   ]
  },
  {
   "cell_type": "markdown",
   "metadata": {},
   "source": [
    "### Tests"
   ]
  },
  {
   "cell_type": "code",
   "execution_count": 15,
   "metadata": {},
   "outputs": [
    {
     "name": "stdout",
     "output_type": "stream",
     "text": [
      "Has 0: True\n",
      "Has 1: False\n",
      "Has 1: True\n"
     ]
    }
   ],
   "source": [
    "#True\n",
    "bst = BinarySearchTree(0)\n",
    "print(\"Has 0: {}\".format(bst.contains(0)))\n",
    "\n",
    "#False\n",
    "print(\"Has 1: {}\".format(bst.contains(1)))\n",
    "\n",
    "#True\n",
    "bst.add(1)\n",
    "print(\"Has 1: {}\".format(bst.contains(1)))"
   ]
  }
 ],
 "metadata": {
  "kernelspec": {
   "display_name": "Python 2",
   "language": "python",
   "name": "python2"
  },
  "language_info": {
   "codemirror_mode": {
    "name": "ipython",
    "version": 2
   },
   "file_extension": ".py",
   "mimetype": "text/x-python",
   "name": "python",
   "nbconvert_exporter": "python",
   "pygments_lexer": "ipython2",
   "version": "2.7.14"
  }
 },
 "nbformat": 4,
 "nbformat_minor": 2
}
