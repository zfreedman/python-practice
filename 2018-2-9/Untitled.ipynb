{
 "cells": [
  {
   "cell_type": "markdown",
   "metadata": {},
   "source": [
    "# Sorting\n",
    "The below code blocks show implementations for several sorting algorithms. Note that these implementations sort the lists in-place, which means the original structure of the list is mutated into it's sorted variant. Additionally, these implementations only support sorting from least to greatest."
   ]
  },
  {
   "cell_type": "code",
   "execution_count": 46,
   "metadata": {},
   "outputs": [],
   "source": [
    "#Imports\n",
    "import random\n",
    "\n",
    "#Randomly ordered lists\n",
    "def get_unsorted_lists():\n",
    "    sort_this_small = [random.randrange(0, 5) for i in range(0, 10)]\n",
    "    sort_this_medium = [random.randrange(0, 20) for i in range(0, 25)]\n",
    "    sort_this_large = [random.randrange(0, 100) for i in range(0, 50)]\n",
    "    return [sort_this_small, sort_this_medium, sort_this_large]\n",
    "lists = get_unsorted_lists()"
   ]
  },
  {
   "cell_type": "markdown",
   "metadata": {},
   "source": [
    "The contents of each list are displayed below."
   ]
  },
  {
   "cell_type": "code",
   "execution_count": 47,
   "metadata": {
    "scrolled": false
   },
   "outputs": [
    {
     "name": "stdout",
     "output_type": "stream",
     "text": [
      "small(10): [4, 0, 0, 0, 1, 4, 0, 1, 0, 3]\n",
      "medium(25): [14, 18, 2, 6, 14, 9, 10, 16, 19, 11, 13, 0, 5, 1, 11, 8, 13, 13, 12, 12, 19, 17, 14, 16, 2]\n",
      "large(50): [29, 61, 26, 84, 14, 34, 24, 33, 55, 69, 34, 86, 60, 1, 71, 22, 80, 93, 50, 18, 95, 74, 90, 0, 27, 42, 13, 92, 43, 99, 97, 39, 68, 31, 87, 77, 73, 38, 69, 30, 9, 99, 71, 20, 51, 38, 7, 22, 40, 8]\n"
     ]
    }
   ],
   "source": [
    "sizes = [\"small\", \"medium\", \"large\"]\n",
    "def print_lists(ll):\n",
    "    \"\"\"\n",
    "    This function simply takes in a list of lists and outputs each list.\n",
    "    \"\"\"\n",
    "    for i in range(len(ll)):\n",
    "        print(\"{}({}): {}\".format(sizes[i], len(ll[i]), ll[i]))\n",
    "print_lists(lists)"
   ]
  },
  {
   "cell_type": "markdown",
   "metadata": {},
   "source": [
    "### Bubble Sort\n",
    "The idea behind bubble sort is to bubble the highest valued element toward the end of the list at each iteration. After the first iteration, the 1st highest element should be at the last index of the list. After the second iteration, the 2nd highest element will be at the second-to-last index of the list, and so on. This process is done by comparing the element at the current index to the element to it's right, and swapping the elements if the left element is larger than the right element.\n",
    "\n",
    "The algorithm should produce the following steps after each *ith* iteration.\n",
    "* [4, 3, 2, 1]\n",
    "* [3, 2, 1, 4]\n",
    "* [2, 1, 3, 4]\n",
    "* [1, 2, 3, 4]"
   ]
  },
  {
   "cell_type": "code",
   "execution_count": 52,
   "metadata": {},
   "outputs": [],
   "source": [
    "def bubble_sort(l):\n",
    "    \"\"\"\n",
    "    In-place implementation of bubble sort. This sorting algorithm has\n",
    "        O(n) best,\n",
    "        O(n**2) average,\n",
    "        O(n**2) worst\n",
    "    time complexity, in addition to\n",
    "        O(1) worst\n",
    "    space complexity.\n",
    "    \"\"\"\n",
    "    #Iterate to move the ith largest element to the ith last index\n",
    "    for i in range(len(l)):\n",
    "        \n",
    "        #Iterate to swap the jth element with the (j+1)th when l[j+1] < l[j]\n",
    "        for j in range(len(l) - 1 - i):\n",
    "            \n",
    "            #Swap if out of order\n",
    "            if l[j+1] < l[j]:\n",
    "                tmp = l[j]\n",
    "                l[j] = l[j+1]\n",
    "                l[j+1] = tmp"
   ]
  },
  {
   "cell_type": "markdown",
   "metadata": {},
   "source": [
    "#### Tests"
   ]
  },
  {
   "cell_type": "code",
   "execution_count": 53,
   "metadata": {},
   "outputs": [
    {
     "name": "stdout",
     "output_type": "stream",
     "text": [
      "small(10): [0, 0, 0, 0, 0, 1, 1, 3, 4, 4]\n",
      "medium(25): [0, 1, 2, 2, 5, 6, 8, 9, 10, 11, 11, 12, 12, 13, 13, 13, 14, 14, 14, 16, 16, 17, 18, 19, 19]\n",
      "large(50): [0, 1, 7, 8, 9, 13, 14, 18, 20, 22, 22, 24, 26, 27, 29, 30, 31, 33, 34, 34, 38, 38, 39, 40, 42, 43, 50, 51, 55, 60, 61, 68, 69, 69, 71, 71, 73, 74, 77, 80, 84, 86, 87, 90, 92, 93, 95, 97, 99, 99]\n"
     ]
    }
   ],
   "source": [
    "#Sort and output lists\n",
    "for i in range(len(lists)):\n",
    "    bubble_sort(lists[i])\n",
    "print_lists(lists)"
   ]
  }
 ],
 "metadata": {
  "kernelspec": {
   "display_name": "Python 2",
   "language": "python",
   "name": "python2"
  },
  "language_info": {
   "codemirror_mode": {
    "name": "ipython",
    "version": 2
   },
   "file_extension": ".py",
   "mimetype": "text/x-python",
   "name": "python",
   "nbconvert_exporter": "python",
   "pygments_lexer": "ipython2",
   "version": "2.7.14"
  }
 },
 "nbformat": 4,
 "nbformat_minor": 2
}
