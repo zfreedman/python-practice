{
 "cells": [
  {
   "cell_type": "markdown",
   "metadata": {},
   "source": [
    "# Sorting\n",
    "The below code blocks show implementations for several sorting algorithms. Note that these implementations sort the lists in-place, which means the original structure of the list is mutated into it's sorted variant. Additionally, these implementations only support sorting from least to greatest."
   ]
  },
  {
   "cell_type": "code",
   "execution_count": 56,
   "metadata": {},
   "outputs": [],
   "source": [
    "#Imports\n",
    "import random\n",
    "\n",
    "#Randomly ordered lists\n",
    "def get_unsorted_lists():\n",
    "    sort_this_small = [random.randrange(0, 5) for i in range(0, 10)]\n",
    "    sort_this_medium = [random.randrange(0, 20) for i in range(0, 25)]\n",
    "    sort_this_large = [random.randrange(0, 100) for i in range(0, 50)]\n",
    "    return [sort_this_small, sort_this_medium, sort_this_large]\n",
    "lists = get_unsorted_lists()"
   ]
  },
  {
   "cell_type": "markdown",
   "metadata": {},
   "source": [
    "The contents of each list are displayed below."
   ]
  },
  {
   "cell_type": "code",
   "execution_count": 57,
   "metadata": {
    "scrolled": false
   },
   "outputs": [
    {
     "name": "stdout",
     "output_type": "stream",
     "text": [
      "small(10): [0, 3, 3, 2, 3, 4, 1, 0, 4, 1]\n",
      "medium(25): [14, 8, 5, 10, 5, 16, 11, 15, 7, 8, 15, 6, 19, 4, 19, 2, 13, 16, 17, 7, 15, 2, 15, 17, 19]\n",
      "large(50): [39, 81, 90, 64, 36, 87, 43, 36, 22, 42, 42, 72, 39, 8, 47, 80, 54, 30, 66, 91, 79, 26, 88, 10, 41, 78, 40, 27, 75, 95, 16, 15, 58, 84, 3, 64, 42, 4, 71, 85, 14, 76, 97, 2, 37, 81, 15, 92, 23, 38]\n"
     ]
    }
   ],
   "source": [
    "sizes = [\"small\", \"medium\", \"large\"]\n",
    "def print_lists(ll):\n",
    "    \"\"\"\n",
    "    This function simply takes in a list of lists and outputs each list.\n",
    "    \"\"\"\n",
    "    for i in range(len(ll)):\n",
    "        print(\"{}({}): {}\".format(sizes[i], len(ll[i]), ll[i]))\n",
    "print_lists(lists)"
   ]
  },
  {
   "cell_type": "markdown",
   "metadata": {},
   "source": [
    "### Bubble Sort\n",
    "The idea behind bubble sort is to bubble the highest valued element toward the end of the list at each iteration. After the first iteration, the 1st highest element should be at the last index of the list. After the second iteration, the 2nd highest element will be at the second-to-last index of the list, and so on. This process is done by comparing the element at the current index to the element to it's right, and swapping the elements if the left element is larger than the right element.\n",
    "\n",
    "The algorithm should produce the following steps after each *ith* iteration.\n",
    "* [4, 3, 2, 1]\n",
    "* [3, 2, 1, 4]\n",
    "* [2, 1, 3, 4]\n",
    "* [1, 2, 3, 4]"
   ]
  },
  {
   "cell_type": "code",
   "execution_count": 58,
   "metadata": {},
   "outputs": [],
   "source": [
    "def bubble_sort(l):\n",
    "    \"\"\"\n",
    "    In-place implementation of bubble sort. This sorting algorithm has\n",
    "        O(n) best,\n",
    "        O(n**2) average,\n",
    "        O(n**2) worst\n",
    "    time complexity, in addition to\n",
    "        O(1) worst\n",
    "    space complexity.\n",
    "    \"\"\"\n",
    "    #Iterate to move the ith largest element to the ith last index\n",
    "    for i in range(len(l)):\n",
    "        \n",
    "        #Iterate to swap the jth element with the (j+1)th when l[j+1] < l[j]\n",
    "        for j in range(len(l) - 1 - i):\n",
    "            \n",
    "            #Swap if out of order\n",
    "            if l[j+1] < l[j]:\n",
    "                tmp = l[j]\n",
    "                l[j] = l[j+1]\n",
    "                l[j+1] = tmp"
   ]
  },
  {
   "cell_type": "markdown",
   "metadata": {},
   "source": [
    "#### Tests"
   ]
  },
  {
   "cell_type": "code",
   "execution_count": 59,
   "metadata": {},
   "outputs": [
    {
     "name": "stdout",
     "output_type": "stream",
     "text": [
      "small(10): [0, 0, 1, 1, 2, 3, 3, 3, 4, 4]\n",
      "medium(25): [2, 2, 4, 5, 5, 6, 7, 7, 8, 8, 10, 11, 13, 14, 15, 15, 15, 15, 16, 16, 17, 17, 19, 19, 19]\n",
      "large(50): [2, 3, 4, 8, 10, 14, 15, 15, 16, 22, 23, 26, 27, 30, 36, 36, 37, 38, 39, 39, 40, 41, 42, 42, 42, 43, 47, 54, 58, 64, 64, 66, 71, 72, 75, 76, 78, 79, 80, 81, 81, 84, 85, 87, 88, 90, 91, 92, 95, 97]\n"
     ]
    }
   ],
   "source": [
    "#Sort and output lists\n",
    "for i in range(len(lists)):\n",
    "    bubble_sort(lists[i])\n",
    "print_lists(lists)"
   ]
  },
  {
   "cell_type": "markdown",
   "metadata": {},
   "source": [
    "## Merge sort\n",
    "The objective behind merge sort is to sort a list of elements by recursive sorting left and right sublists. At the bottom-most recursive calls, the algorithm\n",
    "* compares 2 singleton lists\n",
    "    * copies their data into lists\n",
    "    * replaces the data corresponding to the singletons' positions in the original list with it's sorted counterpart\n",
    "\n",
    "Merge sort does the same for larger and larger lists, building up off sorted singleton lists, until it's building sorted doubles, triples, etc..\n",
    "\n",
    "For complexity, merge sort makes 2 recursive calls for each list/sublist it analyzes. Splitting the data binarily yields O(log(n)) splits, where each split is iterated over linearly in `do_merge()` at most 5 times, giving a O(n) additional time requirement. Therefore, the algorithm yields O(nlog(n)) time complexity. "
   ]
  },
  {
   "cell_type": "code",
   "execution_count": 60,
   "metadata": {},
   "outputs": [],
   "source": [
    "def do_merge(origin_list, li, mi, ri):\n",
    "    \"\"\"\n",
    "    Implements the merging step of merge sort. Given a list ls, this function will\n",
    "    create 2 sorted sublists, in-place, within ls between on the domain ls[li:mi] and\n",
    "    ls[mi+1i:ri+1i]. These 2 sublists will then be iteratively sorted in O(n) time. The\n",
    "    original list is returned.\n",
    "    \"\"\"\n",
    "    #Left and right bounds\n",
    "    left_length = mi - li + 1\n",
    "    right_length = ri - mi\n",
    "    \n",
    "    #Copy left data\n",
    "    left_list = []\n",
    "    for i in range(left_length):\n",
    "        left_list.append(origin_list[li + i])\n",
    "    \n",
    "    #Copy right data\n",
    "    right_list = []\n",
    "    for i in range(right_length):\n",
    "        right_list.append(origin_list[mi + 1 + i])\n",
    "    print(\"Left: {}, Right: {}\".format(left_list, right_list))\n",
    "    \n",
    "    #Trace towards end of lists, continuing to set\n",
    "    #the set next largest element from either list\n",
    "    #as the current element in the original list.\n",
    "    left_mark = 0\n",
    "    right_mark = 0\n",
    "    origin_mark = li\n",
    "    \n",
    "    while left_mark < left_length and right_mark < right_length:\n",
    "        \n",
    "        #If current left element is <= to current right\n",
    "        if left_list[left_mark] <= right_list[right_mark]:\n",
    "            #Add and update\n",
    "            origin_list[origin_mark] = left_list[left_mark]\n",
    "            left_mark += 1\n",
    "        \n",
    "        #Current right elemnt is greater\n",
    "        else:\n",
    "            #Add and update\n",
    "            origin_list[origin_mark] = right_list[right_mark]\n",
    "            right_mark += 1\n",
    "        \n",
    "        #Update origin mark regardless (1 element was added)\n",
    "        origin_mark += 1\n",
    "    \n",
    "    #Copy remaining elements if any\n",
    "    #Left\n",
    "    while left_mark < left_length:\n",
    "        origin_list[origin_mark] = left_list[left_mark]\n",
    "        left_mark += 1\n",
    "        origin_mark += 1\n",
    "     #Right\n",
    "    while right_mark < right_length:\n",
    "        origin_list[origin_mark] = right_list[right_mark]\n",
    "        right_mark += 1\n",
    "        origin_mark += 1\n",
    "\n",
    "def merge_sort(origin_list, li, ri):\n",
    "    #Until right marker crosses over left mark\n",
    "    if li < ri:\n",
    "        \n",
    "        #Get middle index\n",
    "        mi = (li + (ri - 1)) / 2\n",
    "\n",
    "        #Recursively sort left and right sublists\n",
    "        merge_sort(origin_list, li, mi)\n",
    "        merge_sort(origin_list, mi + 1, ri)\n",
    "\n",
    "        #Sort list ranging from [li:ri]\n",
    "        do_merge(origin_list, li, mi, ri)"
   ]
  },
  {
   "cell_type": "markdown",
   "metadata": {},
   "source": [
    "#### Tests\n",
    "First the test cases are created and printed below."
   ]
  },
  {
   "cell_type": "code",
   "execution_count": 61,
   "metadata": {},
   "outputs": [
    {
     "name": "stdout",
     "output_type": "stream",
     "text": [
      "Test 0:\n",
      "ls=[0]\n",
      "li=0\n",
      "ri=0\n",
      "\n",
      "Test 1:\n",
      "ls=[1, 0]\n",
      "li=0\n",
      "ri=1\n",
      "\n",
      "Test 2:\n",
      "ls=[2, 1, 0]\n",
      "li=0\n",
      "ri=2\n",
      "\n",
      "Test 3:\n",
      "ls=[3, 2, 1, 0]\n",
      "li=0\n",
      "ri=3\n",
      "\n",
      "Test 4:\n",
      "ls=[11, 10, 9, 8, 7, 6, 5, 4, 3, 2, 1, 0]\n",
      "li=0\n",
      "ri=11\n",
      "\n"
     ]
    }
   ],
   "source": [
    "#Lists for testing\n",
    "lists = [\n",
    "    [0],\n",
    "    [1,0],\n",
    "    [2,1,0],\n",
    "    [3,2,1,0],\n",
    "    [i for i in range(11, -1, -1)]\n",
    "]\n",
    "\n",
    "#Testing tuples and visualization\n",
    "tests = []\n",
    "for i in range(len(lists)):\n",
    "    l = lists[i]\n",
    "    tests.append((l, 0, len(l) - 1))\n",
    "    test = tests[i]\n",
    "    print(\"Test {}:\\nls={}\\nli={}\\nri={}\\n\".format(i, test[0], test[1], test[2]))"
   ]
  },
  {
   "cell_type": "markdown",
   "metadata": {},
   "source": [
    "Now here are the test results."
   ]
  },
  {
   "cell_type": "code",
   "execution_count": 62,
   "metadata": {
    "scrolled": false
   },
   "outputs": [
    {
     "name": "stdout",
     "output_type": "stream",
     "text": [
      "Test 0 passed: True\n",
      "Left: [1], Right: [0]\n",
      "Test 1 passed: True\n",
      "Left: [1], Right: [0]\n",
      "Left: [2], Right: [0, 1]\n",
      "Test 2 passed: True\n",
      "Left: [3], Right: [2]\n",
      "Left: [1], Right: [0]\n",
      "Left: [2, 3], Right: [0, 1]\n",
      "Test 3 passed: True\n",
      "Left: [10], Right: [9]\n",
      "Left: [11], Right: [9, 10]\n",
      "Left: [7], Right: [6]\n",
      "Left: [8], Right: [6, 7]\n",
      "Left: [9, 10, 11], Right: [6, 7, 8]\n",
      "Left: [4], Right: [3]\n",
      "Left: [5], Right: [3, 4]\n",
      "Left: [1], Right: [0]\n",
      "Left: [2], Right: [0, 1]\n",
      "Left: [3, 4, 5], Right: [0, 1, 2]\n",
      "Left: [6, 7, 8, 9, 10, 11], Right: [0, 1, 2, 3, 4, 5]\n",
      "Test 4 passed: True\n"
     ]
    }
   ],
   "source": [
    "#For each test\n",
    "for i in range(len(tests)):\n",
    "    test = tests[i]\n",
    "    #Do test\n",
    "    merge_sort(test[0], test[1], test[2])\n",
    "    print(\"Test {} passed: {}\".format(\n",
    "        i,\n",
    "        test[0] == sorted(test[0])\n",
    "    ))"
   ]
  },
  {
   "cell_type": "markdown",
   "metadata": {},
   "source": [
    "## Quick Sort (Wall Paritioning)\n",
    "This implementation of quicksort uses wall partitioning. The pivot is always chosen as the lastmost element in the partition, and the wall to move elements leftward when they are lesser than the pivot is always initialized as the frontmost element. Although I thought this was the Hoare paritioning scheme, this is actually more similar to Lomuto's implementation, which is less efficient."
   ]
  },
  {
   "cell_type": "code",
   "execution_count": 90,
   "metadata": {},
   "outputs": [],
   "source": [
    "def quicksort(l):\n",
    "    \"\"\"\n",
    "    Implements quick sort using the Hoare partitioning.\n",
    "    \"\"\" \n",
    "    #If list already sorted, return\n",
    "    if l == None or len(l) < 2:\n",
    "            return\n",
    "        \n",
    "    quicksort_helper(l, 0, len(l) - 1)\n",
    "    \n",
    "def quicksort_helper(l, left, right):\n",
    "    #Return for singleton sublists\n",
    "    if right - left < 1:\n",
    "        return\n",
    "\n",
    "    #Choose pivot as right and wall as left\n",
    "    pivot = right\n",
    "    wall = left - 1\n",
    "    \n",
    "    #print(\"Start\")\n",
    "    #print(\"List: {}\".format(l))\n",
    "    #print(\"l: {}, wall: {}, r: {}\".format(left, wall, right))\n",
    "    \n",
    "    #Iterate up to pivot\n",
    "    for i in range(left, pivot):\n",
    "        #If element is less than pivot and to right of wall, move to left of all\n",
    "        #print(i)\n",
    "        if l[i] < l[pivot] and wall < i:\n",
    "            #Swap if wall is not IMMEDIATELY to left of i\n",
    "            if wall+1 != i:\n",
    "                tmp = l[wall + 1]\n",
    "                l[wall+1] = l[i]\n",
    "                l[i] = tmp\n",
    "                #print(\"swapped {} and {}\".format(i, wall+1))\n",
    "            wall += 1\n",
    "            #print(\"new wall: {}\".format(wall))\n",
    "            #print(l)\n",
    "    \n",
    "    #Swap right of wall element and pivot\n",
    "    tmp = l[wall + 1]\n",
    "    l[wall + 1] = l[right]\n",
    "    l[right] = tmp\n",
    "    \n",
    "    #print(\"End\")\n",
    "    #print(\"List: {}\".format(l))\n",
    "    #print(\"l: {}, wall: {}, r: {}\".format(left, wall, right))\n",
    "    \n",
    "    #Recursively sort left and right sides\n",
    "    quicksort_helper(l, left, wall)\n",
    "    quicksort_helper(l, wall+2, right)"
   ]
  },
  {
   "cell_type": "markdown",
   "metadata": {},
   "source": [
    "#### Tests\n",
    "Below are some varying length lists to test the quicksort Hoare variant with."
   ]
  },
  {
   "cell_type": "code",
   "execution_count": 97,
   "metadata": {
    "scrolled": true
   },
   "outputs": [
    {
     "name": "stdout",
     "output_type": "stream",
     "text": [
      "Testin quicksort() (Hoare) ... \n",
      "\n",
      "Test 0 passed: True\n",
      "\toriginal is []\n",
      "\tsorted is []\n",
      "\tproduced is []\n",
      "\n",
      "Test 1 passed: True\n",
      "\toriginal is [0]\n",
      "\tsorted is [0]\n",
      "\tproduced is [0]\n",
      "\n",
      "Test 2 passed: True\n",
      "\toriginal is [2, 1]\n",
      "\tsorted is [1, 2]\n",
      "\tproduced is [1, 2]\n",
      "\n",
      "Test 3 passed: True\n",
      "\toriginal is [6, 2, 6, 9, 0, 8, 9, 4, 10, 4]\n",
      "\tsorted is [0, 2, 4, 4, 6, 6, 8, 9, 9, 10]\n",
      "\tproduced is [0, 2, 4, 4, 6, 6, 8, 9, 9, 10]\n",
      "\n",
      "Test 4 passed: True\n",
      "\toriginal is [2, 6, 8, 10, 5, 6, 9, 2, 6, 9]\n",
      "\tsorted is [2, 2, 5, 6, 6, 6, 8, 9, 9, 10]\n",
      "\tproduced is [2, 2, 5, 6, 6, 6, 8, 9, 9, 10]\n",
      "\n",
      "Test 5 passed: True\n",
      "\toriginal is [21, 3, 17, 30, 28, 18, 9, 5, 18, 23, 26, 15, 25, 18, 6, 20, 1, 21, 17, 13, 11, 10, 19, 24, 23, 30, 12, 21, 11, 14]\n",
      "\tsorted is [1, 3, 5, 6, 9, 10, 11, 11, 12, 13, 14, 15, 17, 17, 18, 18, 18, 19, 20, 21, 21, 21, 23, 23, 24, 25, 26, 28, 30, 30]\n",
      "\tproduced is [1, 3, 5, 6, 9, 10, 11, 11, 12, 13, 14, 15, 17, 17, 18, 18, 18, 19, 20, 21, 21, 21, 23, 23, 24, 25, 26, 28, 30, 30]\n",
      "\n",
      "Test 6 passed: True\n",
      "\toriginal is [10, 4, 11, 10, 11, 9, 6, 6, 17, 5, 5, 18, 16, 14, 10, 4, 8, 14, 1, 5, 10, 1, 4, 20, 19, 3, 18, 11, 8, 13, 3, 16, 14, 0, 18, 0, 7, 18, 14, 5, 20, 13, 11, 13, 2, 20, 16, 9, 13, 7, 1, 17, 18, 5, 16, 14, 14, 8, 5, 7, 1, 20, 6, 11, 6, 5, 8, 5, 5, 1, 16, 15, 9, 11, 5, 5, 16, 1, 20, 13, 12, 17, 11, 19, 19, 8, 4, 20, 14, 10, 12, 14, 0, 13, 19, 18, 0, 15, 17, 18]\n",
      "\tsorted is [0, 0, 0, 0, 1, 1, 1, 1, 1, 1, 2, 3, 3, 4, 4, 4, 4, 5, 5, 5, 5, 5, 5, 5, 5, 5, 5, 5, 6, 6, 6, 6, 7, 7, 7, 8, 8, 8, 8, 8, 9, 9, 9, 10, 10, 10, 10, 10, 11, 11, 11, 11, 11, 11, 11, 12, 12, 13, 13, 13, 13, 13, 13, 14, 14, 14, 14, 14, 14, 14, 14, 15, 15, 16, 16, 16, 16, 16, 16, 17, 17, 17, 17, 18, 18, 18, 18, 18, 18, 18, 19, 19, 19, 19, 20, 20, 20, 20, 20, 20]\n",
      "\tproduced is [0, 0, 0, 0, 1, 1, 1, 1, 1, 1, 2, 3, 3, 4, 4, 4, 4, 5, 5, 5, 5, 5, 5, 5, 5, 5, 5, 5, 6, 6, 6, 6, 7, 7, 7, 8, 8, 8, 8, 8, 9, 9, 9, 10, 10, 10, 10, 10, 11, 11, 11, 11, 11, 11, 11, 12, 12, 13, 13, 13, 13, 13, 13, 14, 14, 14, 14, 14, 14, 14, 14, 15, 15, 16, 16, 16, 16, 16, 16, 17, 17, 17, 17, 18, 18, 18, 18, 18, 18, 18, 19, 19, 19, 19, 20, 20, 20, 20, 20, 20]\n",
      "\n"
     ]
    }
   ],
   "source": [
    "qsh_tests = [\n",
    "    [],\n",
    "    [0],\n",
    "    [2,1],\n",
    "    [6, 2, 6, 9, 0, 8, 9, 4, 10, 4],\n",
    "    [2, 6, 8, 10, 5, 6, 9, 2, 6, 9],\n",
    "    [21, 3, 17, 30, 28, 18, 9, 5, 18, 23, 26, 15, 25, 18, 6, 20, 1, 21, 17, 13, 11, 10, 19, 24, 23, 30, 12, 21, 11, 14],\n",
    "    [random.randint(0, 20) for i in range(100)]\n",
    "]\n",
    "\n",
    "qsh_solutions = [sorted(qsh_tests[i]) for i in range(len(qsh_tests))]\n",
    "print(\"Testin quicksort() (Hoare) ... \\n\")\n",
    "for i in range(len(qsh_tests)):\n",
    "    #This is an inplace implementation, so the original list is mutated\n",
    "    original = qsh_tests[i][:]\n",
    "    quicksort(qsh_tests[i])\n",
    "    print(\"Test {} passed: {}\\n\\toriginal is {}\\n\\tsorted is {}\\n\\tproduced is {}\\n\".format(\n",
    "        i, qsh_solutions[i] == qsh_tests[i], original, qsh_solutions[i], qsh_tests[i]))"
   ]
  }
 ],
 "metadata": {
  "kernelspec": {
   "display_name": "Python 2",
   "language": "python",
   "name": "python2"
  },
  "language_info": {
   "codemirror_mode": {
    "name": "ipython",
    "version": 2
   },
   "file_extension": ".py",
   "mimetype": "text/x-python",
   "name": "python",
   "nbconvert_exporter": "python",
   "pygments_lexer": "ipython2",
   "version": "2.7.14"
  }
 },
 "nbformat": 4,
 "nbformat_minor": 2
}
