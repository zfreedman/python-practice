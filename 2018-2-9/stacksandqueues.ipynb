{
 "cells": [
  {
   "cell_type": "markdown",
   "metadata": {},
   "source": [
    "# Stacks and Queues\n",
    "This notebook implements stacks and queues using Python lists."
   ]
  },
  {
   "cell_type": "code",
   "execution_count": 14,
   "metadata": {},
   "outputs": [],
   "source": [
    "class Stack:\n",
    "    def __init__(self):\n",
    "        \"\"\"\n",
    "        This function initializes an empty stack.\n",
    "        \"\"\"\n",
    "        self.storage = []\n",
    "    \n",
    "    def empty(self):\n",
    "        \"\"\"\n",
    "        Returns True if the stack is empty and False otherwise.\n",
    "        \"\"\"\n",
    "        return len(self.storage) == 0\n",
    "    \n",
    "    def peek(self):\n",
    "        \"\"\"\n",
    "        Returns the value of the top element in the stack. If the stack is empty,\n",
    "        None is returned.\n",
    "        \"\"\"\n",
    "        if self.empty():\n",
    "            return None\n",
    "        return self.storage[-1]\n",
    "    \n",
    "    def push(self, e):\n",
    "        \"\"\"\n",
    "        Pushes an element e onto the top of the stack.\n",
    "        \"\"\"\n",
    "        self.storage.append(e)\n",
    "        \n",
    "    def pop(self):\n",
    "        \"\"\"\n",
    "        Pops and returns the top element from the stack. If the stack is empty,\n",
    "        None is returned.\n",
    "        \"\"\"\n",
    "        if self.empty():\n",
    "            return None\n",
    "        top = self.peek()\n",
    "        self.storage = self.storage[:-1]\n",
    "        return top"
   ]
  },
  {
   "cell_type": "code",
   "execution_count": 13,
   "metadata": {},
   "outputs": [
    {
     "data": {
      "text/plain": [
       "[1, 2, 3]"
      ]
     },
     "execution_count": 13,
     "metadata": {},
     "output_type": "execute_result"
    }
   ],
   "source": [
    "[1,2,3,4][:-1]"
   ]
  },
  {
   "cell_type": "markdown",
   "metadata": {},
   "source": [
    "## Test init"
   ]
  },
  {
   "cell_type": "code",
   "execution_count": 10,
   "metadata": {},
   "outputs": [
    {
     "data": {
      "text/plain": [
       "[]"
      ]
     },
     "execution_count": 10,
     "metadata": {},
     "output_type": "execute_result"
    }
   ],
   "source": [
    "#empty stack\n",
    "stack = Stack()\n",
    "stack.storage"
   ]
  },
  {
   "cell_type": "markdown",
   "metadata": {},
   "source": [
    "## Test push, peek, and empty"
   ]
  },
  {
   "cell_type": "code",
   "execution_count": 12,
   "metadata": {},
   "outputs": [
    {
     "name": "stdout",
     "output_type": "stream",
     "text": [
      "Stack is empty: True\n",
      "[0, 2]\n",
      "2\n",
      "Stack is empty: False\n"
     ]
    }
   ],
   "source": [
    "#True\n",
    "stack = Stack()\n",
    "print(\"Stack is empty: {}\".format(stack.empty()))\n",
    "\n",
    "#[0,2]\n",
    "stack.push(0)\n",
    "stack.push(2)\n",
    "print(stack.storage)\n",
    "\n",
    "#2\n",
    "print(stack.peek())\n",
    "\n",
    "#False\n",
    "print(\"Stack is empty: {}\".format(stack.empty()))"
   ]
  },
  {
   "cell_type": "markdown",
   "metadata": {},
   "source": [
    "# Test pop"
   ]
  },
  {
   "cell_type": "code",
   "execution_count": 16,
   "metadata": {
    "scrolled": true
   },
   "outputs": [
    {
     "name": "stdout",
     "output_type": "stream",
     "text": [
      "[0, 1, 2]\n",
      "2\n",
      "[0, 1]\n"
     ]
    }
   ],
   "source": [
    "#0, 1, 2\n",
    "stack = Stack()\n",
    "stack.push(0)\n",
    "stack.push(1)\n",
    "stack.push(2)\n",
    "print(stack.storage)\n",
    "\n",
    "#2\n",
    "print(stack.pop())\n",
    "\n",
    "#0, 1\n",
    "print(stack.storage)"
   ]
  },
  {
   "cell_type": "markdown",
   "metadata": {},
   "source": [
    "# Queue"
   ]
  },
  {
   "cell_type": "code",
   "execution_count": 15,
   "metadata": {},
   "outputs": [],
   "source": [
    "class Queue:\n",
    "    def __init__(self):\n",
    "        \"\"\"\n",
    "        Initializes an empty queue.\n",
    "        \"\"\"\n",
    "        self.storage = []\n",
    "    \n",
    "    def empty(self):\n",
    "        \"\"\"\n",
    "        Returns true if the queue is empty. False otherwise.\n",
    "        \"\"\"\n",
    "        return len(self.storage) == 0\n",
    "    \n",
    "    def enqueue(self, e):\n",
    "        \"\"\"\n",
    "        Enqueues an element, which has the least priority.\n",
    "        \"\"\"\n",
    "        self.storage.append(e)\n",
    "        \n",
    "    def dequeue(self):\n",
    "        \"\"\"\n",
    "        Removes and returns the oldest element in the queue, assuming stoarge\n",
    "        isn't empty. Returns None when the queue is empty.\n",
    "        \"\"\"\n",
    "        if self.empty():\n",
    "            return None\n",
    "        oldest = self.storage[0]\n",
    "        self.storage = self.storage[1:]\n",
    "        return oldest"
   ]
  },
  {
   "cell_type": "markdown",
   "metadata": {},
   "source": [
    "## Test queue"
   ]
  },
  {
   "cell_type": "code",
   "execution_count": 18,
   "metadata": {},
   "outputs": [
    {
     "name": "stdout",
     "output_type": "stream",
     "text": [
      "True\n",
      "[0]\n",
      "False\n",
      "[0, 1, 2, 3]\n",
      "0\n",
      "1\n",
      "[2, 3]\n"
     ]
    }
   ],
   "source": [
    "#true\n",
    "q = Queue()\n",
    "print(q.empty())\n",
    "\n",
    "#0\n",
    "#false\n",
    "q.enqueue(0)\n",
    "print(q.storage)\n",
    "print(q.empty())\n",
    "\n",
    "#0, 1, 2, 3\n",
    "#0\n",
    "#1\n",
    "#2, 3\n",
    "q.enqueue(1)\n",
    "q.enqueue(2)\n",
    "q.enqueue(3)\n",
    "print(q.storage)\n",
    "print(q.dequeue())\n",
    "print(q.dequeue())\n",
    "print(q.storage)"
   ]
  }
 ],
 "metadata": {
  "kernelspec": {
   "display_name": "Python 2",
   "language": "python",
   "name": "python2"
  },
  "language_info": {
   "codemirror_mode": {
    "name": "ipython",
    "version": 2
   },
   "file_extension": ".py",
   "mimetype": "text/x-python",
   "name": "python",
   "nbconvert_exporter": "python",
   "pygments_lexer": "ipython2",
   "version": "2.7.14"
  }
 },
 "nbformat": 4,
 "nbformat_minor": 2
}
