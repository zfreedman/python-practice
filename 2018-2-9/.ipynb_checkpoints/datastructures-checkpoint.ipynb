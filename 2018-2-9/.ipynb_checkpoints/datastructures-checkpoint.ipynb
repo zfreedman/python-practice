{
 "cells": [
  {
   "cell_type": "markdown",
   "metadata": {},
   "source": [
    "# Node"
   ]
  },
  {
   "cell_type": "code",
   "execution_count": 12,
   "metadata": {},
   "outputs": [],
   "source": [
    "class Node:\n",
    "    def __init__(self, val):\n",
    "        self.val = val\n",
    "        self.next = None"
   ]
  },
  {
   "cell_type": "markdown",
   "metadata": {},
   "source": [
    "# Linked Lists"
   ]
  },
  {
   "cell_type": "code",
   "execution_count": 25,
   "metadata": {},
   "outputs": [],
   "source": [
    "class LinkedList:\n",
    "    def __init__(self, val):\n",
    "        \"\"\"\n",
    "        Initializes a linked list. If val is specified, a head will be created and given val=val.\n",
    "        \"\"\"\n",
    "        self.head = None if val == None else Node(val)\n",
    "        self.length = 1 if self.head else 0\n",
    "    \n",
    "    def isEmpty(self):\n",
    "        \"\"\"\n",
    "        Returns True if the list is empty. False otherwise.\n",
    "        \"\"\"\n",
    "        return self.head == None\n",
    "    \n",
    "    def append(self, val):\n",
    "        \"\"\"\n",
    "        Creates a node with the specified val. The node is appended to the end of the list.\n",
    "        \"\"\"\n",
    "        if self.isEmpty():\n",
    "            self.head = Node(val)\n",
    "        else:\n",
    "            curr_node = self.head\n",
    "            while curr_node.next:\n",
    "                curr_node = curr_node.next\n",
    "            curr_node.next = Node(val)\n",
    "            self.length += 1\n",
    "            \n",
    "    def insert(self, index, val):\n",
    "        \"\"\"\n",
    "        Inserts a node with the specified val at the specified index. If the index is out of range,\n",
    "        the element is appended to the end of the list. If the index <= 0, the element is\n",
    "        added to the front of the list\n",
    "        \"\"\"\n",
    "        #Add to back\n",
    "        if self.length < index:\n",
    "            self.append(val)\n",
    "        #Add to front\n",
    "        elif index <= 0:\n",
    "            new_head = Node(val)\n",
    "            new_head.next = self.head\n",
    "            self.head = new_head\n",
    "        #Insert in middle\n",
    "        else:\n",
    "            count = 0\n",
    "            prev_node = None\n",
    "            curr_node = self.head\n",
    "            while count < index:\n",
    "                prev_node = curr_node\n",
    "                curr_node = curr_node.next\n",
    "                count += 1\n",
    "            #Insert between prev and curr\n",
    "            mid_node = Node(val)\n",
    "            prev_node.next = mid_node\n",
    "            mid_node.next = curr_node\n",
    "        self.length += 1\n",
    "        \n",
    "    def printlist(self):\n",
    "        \"\"\"\n",
    "        Prints the list.\n",
    "        \"\"\"\n",
    "        print(\"Length: {}\".format(self.length))\n",
    "        curr_node = self.head\n",
    "        output = \"\"\n",
    "        while curr_node:\n",
    "            output += \"({})\".format(curr_node.val)\n",
    "            if curr_node.next:\n",
    "                output += \", \"\n",
    "            curr_node = curr_node.next\n",
    "        print(output)\n",
    "        \n",
    "    def remove(self, val):\n",
    "        \"\"\"\n",
    "        Removes a node with the specified val if such a node exists. Returns the removed node or None.\n",
    "        \"\"\"\n",
    "        #If not empty\n",
    "        if not self.isEmpty():\n",
    "            prev_node = None\n",
    "            curr_node = self.head\n",
    "            while curr_node:\n",
    "                #If current node contains value, remap nexts\n",
    "                if curr_node.val == val:\n",
    "                    if prev_node:\n",
    "                        prev_node.next = curr_node.next\n",
    "                    return curr_node\n",
    "                prev_node = curr_node\n",
    "                curr_node = curr_node.next\n",
    "        return None"
   ]
  },
  {
   "cell_type": "markdown",
   "metadata": {},
   "source": [
    "# Tests"
   ]
  },
  {
   "cell_type": "code",
   "execution_count": 26,
   "metadata": {},
   "outputs": [
    {
     "name": "stdout",
     "output_type": "stream",
     "text": [
      "Length: 1\n",
      "(0)\n",
      "Length: 2\n",
      "(0), (1)\n",
      "Length: 5\n",
      "(2), (0), (1), (4), (3)\n",
      "Length: 5\n",
      "(2), (0), (1), (3)\n"
     ]
    }
   ],
   "source": [
    "#New list\n",
    "ll = LinkedList(0)\n",
    "ll.printlist()#0\n",
    "\n",
    "#Append 1\n",
    "ll.append(1)\n",
    "ll.printlist()#0, 1\n",
    "\n",
    "#Insert 2 at front, 3 at back, 4 at 1 before back\n",
    "ll.insert(0, 2)\n",
    "ll.insert(3, ll.length)\n",
    "ll.insert(ll.length - 1, 4)\n",
    "ll.printlist()\n",
    "\n",
    "#Delete 4\n",
    "ll.remove(4)\n",
    "ll.printlist()"
   ]
  }
 ],
 "metadata": {
  "kernelspec": {
   "display_name": "Python 2",
   "language": "python",
   "name": "python2"
  },
  "language_info": {
   "codemirror_mode": {
    "name": "ipython",
    "version": 2
   },
   "file_extension": ".py",
   "mimetype": "text/x-python",
   "name": "python",
   "nbconvert_exporter": "python",
   "pygments_lexer": "ipython2",
   "version": "2.7.14"
  }
 },
 "nbformat": 4,
 "nbformat_minor": 2
}
