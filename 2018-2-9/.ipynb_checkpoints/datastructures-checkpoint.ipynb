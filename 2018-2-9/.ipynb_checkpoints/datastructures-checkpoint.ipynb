{
 "cells": [
  {
   "cell_type": "markdown",
   "metadata": {},
   "source": [
    "# Node\n",
    "Below is the basic implementation for a node class to be used throughout this notebook."
   ]
  },
  {
   "cell_type": "code",
   "execution_count": 2,
   "metadata": {},
   "outputs": [],
   "source": [
    "class Node:\n",
    "    def __init__(self, val):\n",
    "        self.val = val\n",
    "        self.next = None"
   ]
  },
  {
   "cell_type": "markdown",
   "metadata": {},
   "source": [
    "# Linked Lists\n",
    "## Singly Linked List\n",
    "The below code block shows the implementation for a singly linked list."
   ]
  },
  {
   "cell_type": "code",
   "execution_count": 3,
   "metadata": {},
   "outputs": [],
   "source": [
    "class LinkedList:\n",
    "    def __init__(self, val):\n",
    "        \"\"\"\n",
    "        Initializes a linked list. If val is specified, a head will be created and given val=val.\n",
    "        \"\"\"\n",
    "        self.head = None if val == None else Node(val)\n",
    "        self.length = 1 if self.head else 0\n",
    "    \n",
    "    def isEmpty(self):\n",
    "        \"\"\"\n",
    "        Returns True if the list is empty. False otherwise.\n",
    "        \"\"\"\n",
    "        return self.head == None\n",
    "    \n",
    "    def append(self, val):\n",
    "        \"\"\"\n",
    "        Creates a node with the specified val. The node is appended to the end of the list.\n",
    "        \"\"\"\n",
    "        if self.isEmpty():\n",
    "            self.head = Node(val)\n",
    "        else:\n",
    "            curr_node = self.head\n",
    "            while curr_node.next:\n",
    "                curr_node = curr_node.next\n",
    "            curr_node.next = Node(val)\n",
    "            self.length += 1\n",
    "            \n",
    "    def insert(self, index, val):\n",
    "        \"\"\"\n",
    "        Inserts a node with the specified val at the specified index. If the index is out of range,\n",
    "        the element is appended to the end of the list. If the index <= 0, the element is\n",
    "        added to the front of the list\n",
    "        \"\"\"\n",
    "        #Add to back\n",
    "        if self.length < index:\n",
    "            self.append(val)\n",
    "        #Add to front\n",
    "        elif index <= 0:\n",
    "            new_head = Node(val)\n",
    "            new_head.next = self.head\n",
    "            self.head = new_head\n",
    "        #Insert in middle\n",
    "        else:\n",
    "            count = 0\n",
    "            prev_node = None\n",
    "            curr_node = self.head\n",
    "            while count < index:\n",
    "                prev_node = curr_node\n",
    "                curr_node = curr_node.next\n",
    "                count += 1\n",
    "            #Insert between prev and curr\n",
    "            mid_node = Node(val)\n",
    "            prev_node.next = mid_node\n",
    "            mid_node.next = curr_node\n",
    "        self.length += 1\n",
    "        \n",
    "    def printlist(self):\n",
    "        \"\"\"\n",
    "        Prints the list.\n",
    "        \"\"\"\n",
    "        print(\"Length: {}\".format(self.length))\n",
    "        curr_node = self.head\n",
    "        output = \"\"\n",
    "        while curr_node:\n",
    "            output += \"({})\".format(curr_node.val)\n",
    "            if curr_node.next:\n",
    "                output += \", \"\n",
    "            curr_node = curr_node.next\n",
    "        print(output)\n",
    "        \n",
    "    def remove(self, val):\n",
    "        \"\"\"\n",
    "        Removes a node with the specified val if such a node exists. Returns the removed node or None.\n",
    "        \"\"\"\n",
    "        #If not empty\n",
    "        if not self.isEmpty():\n",
    "            prev_node = None\n",
    "            curr_node = self.head\n",
    "            while curr_node:\n",
    "                #If current node contains value, remap nexts\n",
    "                if curr_node.val == val:\n",
    "                    if prev_node:\n",
    "                        prev_node.next = curr_node.next\n",
    "                    return curr_node\n",
    "                prev_node = curr_node\n",
    "                curr_node = curr_node.next\n",
    "        return None"
   ]
  },
  {
   "cell_type": "markdown",
   "metadata": {},
   "source": [
    "### Tests\n",
    "These are tests for the singly linked list implementation."
   ]
  },
  {
   "cell_type": "code",
   "execution_count": 4,
   "metadata": {},
   "outputs": [
    {
     "name": "stdout",
     "output_type": "stream",
     "text": [
      "Length: 1\n",
      "(0)\n",
      "Length: 2\n",
      "(0), (1)\n",
      "Length: 5\n",
      "(2), (0), (1), (4), (3)\n",
      "Length: 5\n",
      "(2), (0), (1), (3)\n"
     ]
    }
   ],
   "source": [
    "#New list\n",
    "ll = LinkedList(0)\n",
    "ll.printlist()#0\n",
    "\n",
    "#Append 1\n",
    "ll.append(1)\n",
    "ll.printlist()#0, 1\n",
    "\n",
    "#Insert 2 at front, 3 at back, 4 at 1 before back\n",
    "ll.insert(0, 2)\n",
    "ll.insert(3, ll.length)\n",
    "ll.insert(ll.length - 1, 4)\n",
    "ll.printlist()\n",
    "\n",
    "#Delete 4\n",
    "ll.remove(4)\n",
    "ll.printlist()"
   ]
  },
  {
   "cell_type": "markdown",
   "metadata": {},
   "source": [
    "## Doubly Linked List\n",
    "The below code implements the doubly linked list node."
   ]
  },
  {
   "cell_type": "code",
   "execution_count": 19,
   "metadata": {},
   "outputs": [],
   "source": [
    "class DNode(Node):\n",
    "    def __init__(self, val):\n",
    "        \"\"\"\n",
    "        Initializes this doubly linked list node with a value.\n",
    "        \"\"\"\n",
    "        Node.__init__(self, val)\n",
    "        self.prev = None"
   ]
  },
  {
   "cell_type": "markdown",
   "metadata": {},
   "source": [
    "The code for the doubly linked list class is below."
   ]
  },
  {
   "cell_type": "code",
   "execution_count": 115,
   "metadata": {},
   "outputs": [],
   "source": [
    "class DoublyLinkedList:\n",
    "    def __init__(self, val):\n",
    "        \"\"\"\n",
    "        Initializes this doubly linked list. If a value is passed in, this value is initialized\n",
    "        as the head and tail.\n",
    "        \"\"\"\n",
    "        self.head = None\n",
    "        self.tail = None\n",
    "        self.length = 0\n",
    "        if val != None:\n",
    "            node = DNode(val)\n",
    "            self.head = node\n",
    "            self.tail = self.head\n",
    "            self.length += 1\n",
    "    \n",
    "    def insert(self, val, index):\n",
    "        \"\"\"\n",
    "        Inserts a node with the specified value at the specified index.\n",
    "        If index is too low, node is inserted at head. If index is too high,\n",
    "        index is inserted at tail. This function is designed to minimize traversal\n",
    "        time by traversing forwards or backwards to minimize visited nodes.\n",
    "        \"\"\"\n",
    "        #Create new node\n",
    "        new_node = DNode(val)\n",
    "        \n",
    "        #Insert at head condition\n",
    "        if index < 0 or not self.head:\n",
    "            if self.head:\n",
    "                self.head.prev = new_node\n",
    "            new_node.next = self.head\n",
    "            self.head = new_node\n",
    "            \n",
    "        #Insert at tail condition\n",
    "        elif self.length - 1 < index:\n",
    "            if self.tail:\n",
    "                self.tail.next = new_node\n",
    "            new_node.prev = self.tail\n",
    "            self.tail = new_node\n",
    "        \n",
    "        #Insert somewhere in middle\n",
    "        else:\n",
    "            curr_node = self.head\n",
    "            go_forward = True\n",
    "            #Traversing from tail would be faster in this case\n",
    "            if self.length - index < index:\n",
    "                curr_node = self.tail\n",
    "                go_forward = False\n",
    "                #Recalculate index from back of list\n",
    "                index = self.length - index\n",
    "            \n",
    "            #Iterate (note this could be done in 2 different loops if branching multiple times was an issue)\n",
    "            while 0 < index:\n",
    "                #Decide direction\n",
    "                if go_forward:\n",
    "                    curr_node = curr_node.next\n",
    "                else:\n",
    "                    curr_node = curr_node.prev\n",
    "                index -= 1\n",
    "            \n",
    "            #Insert in between nodes\n",
    "            if go_forward:\n",
    "                tmp_node = curr_node.prev\n",
    "                #Prev pointers\n",
    "                tmp_node.next = new_node\n",
    "                new_node.prev = tmp_node\n",
    "                #Curr pointers\n",
    "                curr_node.prev = new_node\n",
    "                new_node.next = curr_node\n",
    "            else:\n",
    "                tmp_node = curr_node.next\n",
    "                #Prev pointers\n",
    "                tmp_node.prev = new_node\n",
    "                new_node.next = tmp_node\n",
    "                #Curr pointers\n",
    "                curr_node.next = new_node\n",
    "                new_node.prev = curr_node\n",
    "        \n",
    "        #Increment length member\n",
    "        self.length += 1\n",
    "    \n",
    "    def printlist(self):\n",
    "        \"\"\"\n",
    "        Prints the doubly linked list from head to tail.\n",
    "        \"\"\"\n",
    "        curr_node = self.head\n",
    "        output = \"\"\n",
    "        #Print if list isn't empty\n",
    "        if self.length != 0:\n",
    "            #Iterate\n",
    "            while curr_node:\n",
    "                output += \"({})\".format(curr_node.val)\n",
    "                curr_node = curr_node.next\n",
    "                #If a next node, print connection\n",
    "                if curr_node:\n",
    "                    output += \" - \"\n",
    "        else:\n",
    "            output += \"Empty\"\n",
    "        print(output)\n",
    "    \n",
    "    def contains(self, val):\n",
    "        \"\"\"\n",
    "        Returns (index, Node) if a the list contains a node with the value. None otherwise. This\n",
    "        implementation looks forward and backward through the list simultaneously.\n",
    "        \"\"\"\n",
    "        #Assign front and back\n",
    "        front = self.head\n",
    "        if self.head and self.head.val == val:\n",
    "            return (0, front)\n",
    "        back = self.tail\n",
    "        \n",
    "        #Iteration parameters\n",
    "        count = 0\n",
    "        count_max = self.length / 2\n",
    "        #Iterate and check until front and back cross\n",
    "        while (count < count_max):\n",
    "            if front.val == val:\n",
    "                return (count, front)\n",
    "            elif back.val == val:\n",
    "                return (self.length - 1 - count, back)\n",
    "            #Pinch inward\n",
    "            front = front.next\n",
    "            back = back.prev\n",
    "            count += 1\n",
    "        \n",
    "        #Odd length list case\n",
    "        if self.length % 2 == 1:\n",
    "            return (count, front)\n",
    "        \n",
    "        #Handle remaining even cases\n",
    "        return None\n",
    "    \n",
    "    def remove(self, val):\n",
    "        \"\"\"\n",
    "        Removes the first element in the list with the specified value. If no such element exists,\n",
    "        the list remains unaltered.\n",
    "        \"\"\"\n",
    "        #Check if element in list\n",
    "        info_tup = self.contains(val)\n",
    "        \n",
    "        #Remove if in list\n",
    "        if info_tup:\n",
    "            #found of form (index, Node)\n",
    "            found = info_tup[1]\n",
    "            \n",
    "            #Get prev and next\n",
    "            prev_node = found.prev\n",
    "            next_node = found.next\n",
    "            #print(\"Prev: {}\".format(prev_node.val if prev_node else None))\n",
    "\n",
    "            #Redirect pointers\n",
    "            if prev_node:\n",
    "                prev_node.next = next_node\n",
    "            if next_node:\n",
    "                next_node.prev = prev_node\n",
    "            \n",
    "            #Remove pointers\n",
    "            found.next = None\n",
    "            found.prev = None\n",
    "            \n",
    "            #Reassign head and tail if necessary\n",
    "            if found == self.head:\n",
    "                self.head = next_node\n",
    "            if found == self.tail:\n",
    "#                print(\"yes\")\n",
    "                self.tail == prev_node\n",
    "            self.length -= 1"
   ]
  },
  {
   "cell_type": "markdown",
   "metadata": {},
   "source": [
    "### Tests\n",
    "These tests validate the functionality of DLL's init, insert, printlist, contains, and remove methods."
   ]
  },
  {
   "cell_type": "markdown",
   "metadata": {},
   "source": [
    "**init, insert, printlist**"
   ]
  },
  {
   "cell_type": "code",
   "execution_count": 116,
   "metadata": {},
   "outputs": [
    {
     "name": "stdout",
     "output_type": "stream",
     "text": [
      "(0)\n",
      "(0) - (1) - (4)\n",
      "(-1) - (0) - (1) - (4)\n",
      "(-1) - (-0.5) - (0) - (1) - (3) - (4)\n"
     ]
    }
   ],
   "source": [
    "#0\n",
    "dll = DoublyLinkedList(0)\n",
    "dll.printlist()\n",
    "\n",
    "#0, 1, 4\n",
    "dll.insert(1, 1)\n",
    "dll.insert(4, 2)\n",
    "dll.printlist()\n",
    "\n",
    "#-1, 0, 1, 4\n",
    "dll.insert(-1, -5)\n",
    "dll.printlist()\n",
    "\n",
    "#-1, -.5, 0, 1, 3, 4\n",
    "dll.insert(-.5, 1)\n",
    "dll.insert(3, 4)\n",
    "dll.printlist()"
   ]
  },
  {
   "cell_type": "markdown",
   "metadata": {},
   "source": [
    "**contains**"
   ]
  },
  {
   "cell_type": "code",
   "execution_count": 117,
   "metadata": {},
   "outputs": [
    {
     "name": "stdout",
     "output_type": "stream",
     "text": [
      "True\n",
      "False\n",
      "True\n"
     ]
    }
   ],
   "source": [
    "#true\n",
    "print(dll.contains(-1) != None)\n",
    "\n",
    "#false\n",
    "print(dll.contains(7) != None)\n",
    "\n",
    "#true\n",
    "print(dll.contains(0) != None)"
   ]
  },
  {
   "cell_type": "markdown",
   "metadata": {},
   "source": [
    "**remove**"
   ]
  },
  {
   "cell_type": "code",
   "execution_count": 118,
   "metadata": {},
   "outputs": [
    {
     "name": "stdout",
     "output_type": "stream",
     "text": [
      "(-1) - (-0.5) - (0) - (1) - (3) - (4)\n",
      "(-0.5) - (0) - (1) - (3) - (4)\n",
      "(-0.5) - (0) - (1) - (4)\n",
      "(4)\n",
      "head: 4, tail: 4\n"
     ]
    }
   ],
   "source": [
    "#-1, -.5, 0, 1, 3, 4\n",
    "dll.printlist()\n",
    "\n",
    "#-.5, 0, 1, 3, 4\n",
    "dll.remove(-1)\n",
    "dll.printlist()\n",
    "\n",
    "#-.5, 0, 1, 4\n",
    "dll.remove(3)\n",
    "dll.printlist()\n",
    "\n",
    "# 4\n",
    "dll.remove(-.5)\n",
    "dll.remove(0)\n",
    "dll.remove(1)\n",
    "dll.printlist()\n",
    "\n",
    "# head: 4, tail: 4\n",
    "print(\"head: {}, tail: {}\".format(dll.head.val, dll.tail.val))"
   ]
  },
  {
   "cell_type": "code",
   "execution_count": 121,
   "metadata": {},
   "outputs": [
    {
     "name": "stdout",
     "output_type": "stream",
     "text": [
      "head: None, tail: 4\n"
     ]
    }
   ],
   "source": [
    "#head: None, tail: None\n",
    "dll.remove(4)\n",
    "print(\"head: {}, tail: {}\".format(dll.head.val if dll.head else dll.head, dll.tail.val if dll.tail else dll.tail))"
   ]
  }
 ],
 "metadata": {
  "kernelspec": {
   "display_name": "Python 2",
   "language": "python",
   "name": "python2"
  },
  "language_info": {
   "codemirror_mode": {
    "name": "ipython",
    "version": 2
   },
   "file_extension": ".py",
   "mimetype": "text/x-python",
   "name": "python",
   "nbconvert_exporter": "python",
   "pygments_lexer": "ipython2",
   "version": "2.7.14"
  }
 },
 "nbformat": 4,
 "nbformat_minor": 2
}
